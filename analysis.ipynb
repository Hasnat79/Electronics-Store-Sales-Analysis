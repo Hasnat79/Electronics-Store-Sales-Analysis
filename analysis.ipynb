{
 "cells": [
  {
   "cell_type": "markdown",
   "id": "a3e4143f-b64c-4550-8c7b-aa79eaebfbcd",
   "metadata": {
    "tags": []
   },
   "source": [
    "# Sales Analysis"
   ]
  },
  {
   "cell_type": "markdown",
   "id": "8d718db5-ca1f-42b3-a664-dd8a6e70c8a3",
   "metadata": {},
   "source": [
    "#### Import Necessary Libraries"
   ]
  },
  {
   "cell_type": "code",
   "execution_count": 1,
   "id": "573ea8c9-4957-4f75-b7e4-01f95433324c",
   "metadata": {},
   "outputs": [],
   "source": [
    "import pandas as pd\n",
    "import os"
   ]
  },
  {
   "cell_type": "markdown",
   "id": "16c19dbd-4e28-48f7-beea-335285adfaeb",
   "metadata": {},
   "source": [
    "#### Merging 12 months of sales data into a single file"
   ]
  },
  {
   "cell_type": "code",
   "execution_count": 2,
   "id": "7e73d473-89cb-4769-aec6-fd0d5b73f073",
   "metadata": {},
   "outputs": [],
   "source": [
    "df = pd.read_csv(\"./Sales_Data/Sales_April_2019.csv\")\n",
    "\n",
    "files = [file for file in os.listdir(\"./Sales_Data\")]\n",
    "\n",
    "all_months_data=pd.DataFrame()\n",
    "\n",
    "for file in files:\n",
    "    df = pd.read_csv(\"./Sales_Data/\"+file)\n",
    "    all_months_data = pd.concat([all_months_data,df])\n",
    "\n",
    "all_months_data.to_csv(\"all_data.csv\",index=False)\n"
   ]
  },
  {
   "cell_type": "markdown",
   "id": "e3838221-8a0e-44d3-86e3-003d3334eef7",
   "metadata": {},
   "source": [
    "#### Read in updated dataframe"
   ]
  },
  {
   "cell_type": "code",
   "execution_count": 3,
   "id": "0ad2fe10-ebec-48d0-880f-6c5df15c6e01",
   "metadata": {},
   "outputs": [
    {
     "data": {
      "text/html": [
       "<div>\n",
       "<style scoped>\n",
       "    .dataframe tbody tr th:only-of-type {\n",
       "        vertical-align: middle;\n",
       "    }\n",
       "\n",
       "    .dataframe tbody tr th {\n",
       "        vertical-align: top;\n",
       "    }\n",
       "\n",
       "    .dataframe thead th {\n",
       "        text-align: right;\n",
       "    }\n",
       "</style>\n",
       "<table border=\"1\" class=\"dataframe\">\n",
       "  <thead>\n",
       "    <tr style=\"text-align: right;\">\n",
       "      <th></th>\n",
       "      <th>Order ID</th>\n",
       "      <th>Product</th>\n",
       "      <th>Quantity Ordered</th>\n",
       "      <th>Price Each</th>\n",
       "      <th>Order Date</th>\n",
       "      <th>Purchase Address</th>\n",
       "    </tr>\n",
       "  </thead>\n",
       "  <tbody>\n",
       "    <tr>\n",
       "      <th>0</th>\n",
       "      <td>150502</td>\n",
       "      <td>iPhone</td>\n",
       "      <td>1</td>\n",
       "      <td>700</td>\n",
       "      <td>02/18/19 01:35</td>\n",
       "      <td>866 Spruce St, Portland, ME 04101</td>\n",
       "    </tr>\n",
       "    <tr>\n",
       "      <th>1</th>\n",
       "      <td>150503</td>\n",
       "      <td>AA Batteries (4-pack)</td>\n",
       "      <td>1</td>\n",
       "      <td>3.84</td>\n",
       "      <td>02/13/19 07:24</td>\n",
       "      <td>18 13th St, San Francisco, CA 94016</td>\n",
       "    </tr>\n",
       "    <tr>\n",
       "      <th>2</th>\n",
       "      <td>150504</td>\n",
       "      <td>27in 4K Gaming Monitor</td>\n",
       "      <td>1</td>\n",
       "      <td>389.99</td>\n",
       "      <td>02/18/19 09:46</td>\n",
       "      <td>52 6th St, New York City, NY 10001</td>\n",
       "    </tr>\n",
       "    <tr>\n",
       "      <th>3</th>\n",
       "      <td>150505</td>\n",
       "      <td>Lightning Charging Cable</td>\n",
       "      <td>1</td>\n",
       "      <td>14.95</td>\n",
       "      <td>02/02/19 16:47</td>\n",
       "      <td>129 Cherry St, Atlanta, GA 30301</td>\n",
       "    </tr>\n",
       "    <tr>\n",
       "      <th>4</th>\n",
       "      <td>150506</td>\n",
       "      <td>AA Batteries (4-pack)</td>\n",
       "      <td>2</td>\n",
       "      <td>3.84</td>\n",
       "      <td>02/28/19 20:32</td>\n",
       "      <td>548 Lincoln St, Seattle, WA 98101</td>\n",
       "    </tr>\n",
       "  </tbody>\n",
       "</table>\n",
       "</div>"
      ],
      "text/plain": [
       "  Order ID                   Product Quantity Ordered Price Each  \\\n",
       "0   150502                    iPhone                1        700   \n",
       "1   150503     AA Batteries (4-pack)                1       3.84   \n",
       "2   150504    27in 4K Gaming Monitor                1     389.99   \n",
       "3   150505  Lightning Charging Cable                1      14.95   \n",
       "4   150506     AA Batteries (4-pack)                2       3.84   \n",
       "\n",
       "       Order Date                     Purchase Address  \n",
       "0  02/18/19 01:35    866 Spruce St, Portland, ME 04101  \n",
       "1  02/13/19 07:24  18 13th St, San Francisco, CA 94016  \n",
       "2  02/18/19 09:46   52 6th St, New York City, NY 10001  \n",
       "3  02/02/19 16:47     129 Cherry St, Atlanta, GA 30301  \n",
       "4  02/28/19 20:32    548 Lincoln St, Seattle, WA 98101  "
      ]
     },
     "execution_count": 3,
     "metadata": {},
     "output_type": "execute_result"
    }
   ],
   "source": [
    "all_data=pd.read_csv (\"all_data.csv\")\n",
    "all_data.head()"
   ]
  },
  {
   "cell_type": "markdown",
   "id": "d2a2e2d7-5000-43ad-87c8-0ed9d610fc30",
   "metadata": {},
   "source": [
    "### Clean up the data!"
   ]
  },
  {
   "cell_type": "markdown",
   "id": "9a63314a-3476-4f4c-b39f-ff66bb498d02",
   "metadata": {},
   "source": [
    "##### Drop rows of NaN"
   ]
  },
  {
   "cell_type": "code",
   "execution_count": 4,
   "id": "f569255d-fd2c-4c6f-a7d9-c6b839d50a3c",
   "metadata": {},
   "outputs": [
    {
     "data": {
      "text/html": [
       "<div>\n",
       "<style scoped>\n",
       "    .dataframe tbody tr th:only-of-type {\n",
       "        vertical-align: middle;\n",
       "    }\n",
       "\n",
       "    .dataframe tbody tr th {\n",
       "        vertical-align: top;\n",
       "    }\n",
       "\n",
       "    .dataframe thead th {\n",
       "        text-align: right;\n",
       "    }\n",
       "</style>\n",
       "<table border=\"1\" class=\"dataframe\">\n",
       "  <thead>\n",
       "    <tr style=\"text-align: right;\">\n",
       "      <th></th>\n",
       "      <th>Order ID</th>\n",
       "      <th>Product</th>\n",
       "      <th>Quantity Ordered</th>\n",
       "      <th>Price Each</th>\n",
       "      <th>Order Date</th>\n",
       "      <th>Purchase Address</th>\n",
       "    </tr>\n",
       "  </thead>\n",
       "  <tbody>\n",
       "    <tr>\n",
       "      <th>0</th>\n",
       "      <td>150502</td>\n",
       "      <td>iPhone</td>\n",
       "      <td>1</td>\n",
       "      <td>700</td>\n",
       "      <td>02/18/19 01:35</td>\n",
       "      <td>866 Spruce St, Portland, ME 04101</td>\n",
       "    </tr>\n",
       "    <tr>\n",
       "      <th>1</th>\n",
       "      <td>150503</td>\n",
       "      <td>AA Batteries (4-pack)</td>\n",
       "      <td>1</td>\n",
       "      <td>3.84</td>\n",
       "      <td>02/13/19 07:24</td>\n",
       "      <td>18 13th St, San Francisco, CA 94016</td>\n",
       "    </tr>\n",
       "    <tr>\n",
       "      <th>2</th>\n",
       "      <td>150504</td>\n",
       "      <td>27in 4K Gaming Monitor</td>\n",
       "      <td>1</td>\n",
       "      <td>389.99</td>\n",
       "      <td>02/18/19 09:46</td>\n",
       "      <td>52 6th St, New York City, NY 10001</td>\n",
       "    </tr>\n",
       "    <tr>\n",
       "      <th>3</th>\n",
       "      <td>150505</td>\n",
       "      <td>Lightning Charging Cable</td>\n",
       "      <td>1</td>\n",
       "      <td>14.95</td>\n",
       "      <td>02/02/19 16:47</td>\n",
       "      <td>129 Cherry St, Atlanta, GA 30301</td>\n",
       "    </tr>\n",
       "    <tr>\n",
       "      <th>4</th>\n",
       "      <td>150506</td>\n",
       "      <td>AA Batteries (4-pack)</td>\n",
       "      <td>2</td>\n",
       "      <td>3.84</td>\n",
       "      <td>02/28/19 20:32</td>\n",
       "      <td>548 Lincoln St, Seattle, WA 98101</td>\n",
       "    </tr>\n",
       "  </tbody>\n",
       "</table>\n",
       "</div>"
      ],
      "text/plain": [
       "  Order ID                   Product Quantity Ordered Price Each  \\\n",
       "0   150502                    iPhone                1        700   \n",
       "1   150503     AA Batteries (4-pack)                1       3.84   \n",
       "2   150504    27in 4K Gaming Monitor                1     389.99   \n",
       "3   150505  Lightning Charging Cable                1      14.95   \n",
       "4   150506     AA Batteries (4-pack)                2       3.84   \n",
       "\n",
       "       Order Date                     Purchase Address  \n",
       "0  02/18/19 01:35    866 Spruce St, Portland, ME 04101  \n",
       "1  02/13/19 07:24  18 13th St, San Francisco, CA 94016  \n",
       "2  02/18/19 09:46   52 6th St, New York City, NY 10001  \n",
       "3  02/02/19 16:47     129 Cherry St, Atlanta, GA 30301  \n",
       "4  02/28/19 20:32    548 Lincoln St, Seattle, WA 98101  "
      ]
     },
     "execution_count": 4,
     "metadata": {},
     "output_type": "execute_result"
    }
   ],
   "source": [
    "nan_df = all_data[all_data.isna().any(axis=1)]\n",
    "\n",
    "nan_df.head()\n",
    "\n",
    "all_data = all_data.dropna(how='all')\n",
    "all_data.head()"
   ]
  },
  {
   "cell_type": "markdown",
   "id": "aadcf930-e3cf-4b58-be88-23b57466f687",
   "metadata": {},
   "source": [
    "##### Find 'Or' and delete it"
   ]
  },
  {
   "cell_type": "code",
   "execution_count": 5,
   "id": "3f5029d8-025b-4062-b553-21b2a17f5c31",
   "metadata": {},
   "outputs": [],
   "source": [
    "all_data = all_data[all_data['Order Date'].str[0:2] != 'Or']\n"
   ]
  },
  {
   "cell_type": "markdown",
   "id": "91a8589f-eaa7-42d2-b854-ee95d6b3ee2d",
   "metadata": {},
   "source": [
    "##### Convert columns to the correct type"
   ]
  },
  {
   "cell_type": "code",
   "execution_count": 6,
   "id": "8a45e9d6-2be2-4b62-a94e-777619c14055",
   "metadata": {},
   "outputs": [],
   "source": [
    "all_data['Quantity Ordered'] = pd.to_numeric(all_data['Quantity Ordered']) #Make int\n",
    "all_data['Price Each']=pd.to_numeric(all_data['Price Each']) #make float"
   ]
  },
  {
   "cell_type": "code",
   "execution_count": 7,
   "id": "ff182b2a-6255-4db4-bc46-75fec5b87c64",
   "metadata": {},
   "outputs": [
    {
     "data": {
      "text/html": [
       "<div>\n",
       "<style scoped>\n",
       "    .dataframe tbody tr th:only-of-type {\n",
       "        vertical-align: middle;\n",
       "    }\n",
       "\n",
       "    .dataframe tbody tr th {\n",
       "        vertical-align: top;\n",
       "    }\n",
       "\n",
       "    .dataframe thead th {\n",
       "        text-align: right;\n",
       "    }\n",
       "</style>\n",
       "<table border=\"1\" class=\"dataframe\">\n",
       "  <thead>\n",
       "    <tr style=\"text-align: right;\">\n",
       "      <th></th>\n",
       "      <th>Order ID</th>\n",
       "      <th>Product</th>\n",
       "      <th>Quantity Ordered</th>\n",
       "      <th>Price Each</th>\n",
       "      <th>Order Date</th>\n",
       "      <th>Purchase Address</th>\n",
       "    </tr>\n",
       "  </thead>\n",
       "  <tbody>\n",
       "    <tr>\n",
       "      <th>0</th>\n",
       "      <td>150502</td>\n",
       "      <td>iPhone</td>\n",
       "      <td>1</td>\n",
       "      <td>700.00</td>\n",
       "      <td>02/18/19 01:35</td>\n",
       "      <td>866 Spruce St, Portland, ME 04101</td>\n",
       "    </tr>\n",
       "    <tr>\n",
       "      <th>1</th>\n",
       "      <td>150503</td>\n",
       "      <td>AA Batteries (4-pack)</td>\n",
       "      <td>1</td>\n",
       "      <td>3.84</td>\n",
       "      <td>02/13/19 07:24</td>\n",
       "      <td>18 13th St, San Francisco, CA 94016</td>\n",
       "    </tr>\n",
       "    <tr>\n",
       "      <th>2</th>\n",
       "      <td>150504</td>\n",
       "      <td>27in 4K Gaming Monitor</td>\n",
       "      <td>1</td>\n",
       "      <td>389.99</td>\n",
       "      <td>02/18/19 09:46</td>\n",
       "      <td>52 6th St, New York City, NY 10001</td>\n",
       "    </tr>\n",
       "    <tr>\n",
       "      <th>3</th>\n",
       "      <td>150505</td>\n",
       "      <td>Lightning Charging Cable</td>\n",
       "      <td>1</td>\n",
       "      <td>14.95</td>\n",
       "      <td>02/02/19 16:47</td>\n",
       "      <td>129 Cherry St, Atlanta, GA 30301</td>\n",
       "    </tr>\n",
       "    <tr>\n",
       "      <th>4</th>\n",
       "      <td>150506</td>\n",
       "      <td>AA Batteries (4-pack)</td>\n",
       "      <td>2</td>\n",
       "      <td>3.84</td>\n",
       "      <td>02/28/19 20:32</td>\n",
       "      <td>548 Lincoln St, Seattle, WA 98101</td>\n",
       "    </tr>\n",
       "  </tbody>\n",
       "</table>\n",
       "</div>"
      ],
      "text/plain": [
       "  Order ID                   Product  Quantity Ordered  Price Each  \\\n",
       "0   150502                    iPhone                 1      700.00   \n",
       "1   150503     AA Batteries (4-pack)                 1        3.84   \n",
       "2   150504    27in 4K Gaming Monitor                 1      389.99   \n",
       "3   150505  Lightning Charging Cable                 1       14.95   \n",
       "4   150506     AA Batteries (4-pack)                 2        3.84   \n",
       "\n",
       "       Order Date                     Purchase Address  \n",
       "0  02/18/19 01:35    866 Spruce St, Portland, ME 04101  \n",
       "1  02/13/19 07:24  18 13th St, San Francisco, CA 94016  \n",
       "2  02/18/19 09:46   52 6th St, New York City, NY 10001  \n",
       "3  02/02/19 16:47     129 Cherry St, Atlanta, GA 30301  \n",
       "4  02/28/19 20:32    548 Lincoln St, Seattle, WA 98101  "
      ]
     },
     "execution_count": 7,
     "metadata": {},
     "output_type": "execute_result"
    }
   ],
   "source": [
    "all_data.head()"
   ]
  },
  {
   "cell_type": "markdown",
   "id": "6960481e-4883-422c-a53e-248af4affcb2",
   "metadata": {},
   "source": [
    "### Augment data with additional columns"
   ]
  },
  {
   "cell_type": "markdown",
   "id": "ede85a81-4a4e-444b-ace1-5a23e2de1f73",
   "metadata": {},
   "source": [
    "### Task 2: Add Month Column"
   ]
  },
  {
   "cell_type": "code",
   "execution_count": 8,
   "id": "1fc3526a-5f84-4351-9649-588cb82384cb",
   "metadata": {},
   "outputs": [
    {
     "data": {
      "text/html": [
       "<div>\n",
       "<style scoped>\n",
       "    .dataframe tbody tr th:only-of-type {\n",
       "        vertical-align: middle;\n",
       "    }\n",
       "\n",
       "    .dataframe tbody tr th {\n",
       "        vertical-align: top;\n",
       "    }\n",
       "\n",
       "    .dataframe thead th {\n",
       "        text-align: right;\n",
       "    }\n",
       "</style>\n",
       "<table border=\"1\" class=\"dataframe\">\n",
       "  <thead>\n",
       "    <tr style=\"text-align: right;\">\n",
       "      <th></th>\n",
       "      <th>Order ID</th>\n",
       "      <th>Product</th>\n",
       "      <th>Quantity Ordered</th>\n",
       "      <th>Price Each</th>\n",
       "      <th>Order Date</th>\n",
       "      <th>Purchase Address</th>\n",
       "      <th>Month</th>\n",
       "    </tr>\n",
       "  </thead>\n",
       "  <tbody>\n",
       "    <tr>\n",
       "      <th>0</th>\n",
       "      <td>150502</td>\n",
       "      <td>iPhone</td>\n",
       "      <td>1</td>\n",
       "      <td>700.00</td>\n",
       "      <td>02/18/19 01:35</td>\n",
       "      <td>866 Spruce St, Portland, ME 04101</td>\n",
       "      <td>2</td>\n",
       "    </tr>\n",
       "    <tr>\n",
       "      <th>1</th>\n",
       "      <td>150503</td>\n",
       "      <td>AA Batteries (4-pack)</td>\n",
       "      <td>1</td>\n",
       "      <td>3.84</td>\n",
       "      <td>02/13/19 07:24</td>\n",
       "      <td>18 13th St, San Francisco, CA 94016</td>\n",
       "      <td>2</td>\n",
       "    </tr>\n",
       "    <tr>\n",
       "      <th>2</th>\n",
       "      <td>150504</td>\n",
       "      <td>27in 4K Gaming Monitor</td>\n",
       "      <td>1</td>\n",
       "      <td>389.99</td>\n",
       "      <td>02/18/19 09:46</td>\n",
       "      <td>52 6th St, New York City, NY 10001</td>\n",
       "      <td>2</td>\n",
       "    </tr>\n",
       "    <tr>\n",
       "      <th>3</th>\n",
       "      <td>150505</td>\n",
       "      <td>Lightning Charging Cable</td>\n",
       "      <td>1</td>\n",
       "      <td>14.95</td>\n",
       "      <td>02/02/19 16:47</td>\n",
       "      <td>129 Cherry St, Atlanta, GA 30301</td>\n",
       "      <td>2</td>\n",
       "    </tr>\n",
       "    <tr>\n",
       "      <th>4</th>\n",
       "      <td>150506</td>\n",
       "      <td>AA Batteries (4-pack)</td>\n",
       "      <td>2</td>\n",
       "      <td>3.84</td>\n",
       "      <td>02/28/19 20:32</td>\n",
       "      <td>548 Lincoln St, Seattle, WA 98101</td>\n",
       "      <td>2</td>\n",
       "    </tr>\n",
       "  </tbody>\n",
       "</table>\n",
       "</div>"
      ],
      "text/plain": [
       "  Order ID                   Product  Quantity Ordered  Price Each  \\\n",
       "0   150502                    iPhone                 1      700.00   \n",
       "1   150503     AA Batteries (4-pack)                 1        3.84   \n",
       "2   150504    27in 4K Gaming Monitor                 1      389.99   \n",
       "3   150505  Lightning Charging Cable                 1       14.95   \n",
       "4   150506     AA Batteries (4-pack)                 2        3.84   \n",
       "\n",
       "       Order Date                     Purchase Address  Month  \n",
       "0  02/18/19 01:35    866 Spruce St, Portland, ME 04101      2  \n",
       "1  02/13/19 07:24  18 13th St, San Francisco, CA 94016      2  \n",
       "2  02/18/19 09:46   52 6th St, New York City, NY 10001      2  \n",
       "3  02/02/19 16:47     129 Cherry St, Atlanta, GA 30301      2  \n",
       "4  02/28/19 20:32    548 Lincoln St, Seattle, WA 98101      2  "
      ]
     },
     "execution_count": 8,
     "metadata": {},
     "output_type": "execute_result"
    }
   ],
   "source": [
    "all_data['Month']= all_data['Order Date'].str[0:2]\n",
    "all_data['Month'] = all_data['Month'].astype('int32')\n",
    "all_data.head()"
   ]
  },
  {
   "cell_type": "markdown",
   "id": "c6f153eb-4e86-4be8-a62d-2ce999c026e4",
   "metadata": {},
   "source": [
    "#### Task 3: Add a sales column"
   ]
  },
  {
   "cell_type": "code",
   "execution_count": 9,
   "id": "94fd39f5-cd06-4244-87cd-250b0d399a15",
   "metadata": {},
   "outputs": [
    {
     "data": {
      "text/html": [
       "<div>\n",
       "<style scoped>\n",
       "    .dataframe tbody tr th:only-of-type {\n",
       "        vertical-align: middle;\n",
       "    }\n",
       "\n",
       "    .dataframe tbody tr th {\n",
       "        vertical-align: top;\n",
       "    }\n",
       "\n",
       "    .dataframe thead th {\n",
       "        text-align: right;\n",
       "    }\n",
       "</style>\n",
       "<table border=\"1\" class=\"dataframe\">\n",
       "  <thead>\n",
       "    <tr style=\"text-align: right;\">\n",
       "      <th></th>\n",
       "      <th>Order ID</th>\n",
       "      <th>Product</th>\n",
       "      <th>Quantity Ordered</th>\n",
       "      <th>Price Each</th>\n",
       "      <th>Order Date</th>\n",
       "      <th>Purchase Address</th>\n",
       "      <th>Month</th>\n",
       "      <th>Sales</th>\n",
       "    </tr>\n",
       "  </thead>\n",
       "  <tbody>\n",
       "    <tr>\n",
       "      <th>0</th>\n",
       "      <td>150502</td>\n",
       "      <td>iPhone</td>\n",
       "      <td>1</td>\n",
       "      <td>700.00</td>\n",
       "      <td>02/18/19 01:35</td>\n",
       "      <td>866 Spruce St, Portland, ME 04101</td>\n",
       "      <td>2</td>\n",
       "      <td>700.00</td>\n",
       "    </tr>\n",
       "    <tr>\n",
       "      <th>1</th>\n",
       "      <td>150503</td>\n",
       "      <td>AA Batteries (4-pack)</td>\n",
       "      <td>1</td>\n",
       "      <td>3.84</td>\n",
       "      <td>02/13/19 07:24</td>\n",
       "      <td>18 13th St, San Francisco, CA 94016</td>\n",
       "      <td>2</td>\n",
       "      <td>3.84</td>\n",
       "    </tr>\n",
       "    <tr>\n",
       "      <th>2</th>\n",
       "      <td>150504</td>\n",
       "      <td>27in 4K Gaming Monitor</td>\n",
       "      <td>1</td>\n",
       "      <td>389.99</td>\n",
       "      <td>02/18/19 09:46</td>\n",
       "      <td>52 6th St, New York City, NY 10001</td>\n",
       "      <td>2</td>\n",
       "      <td>389.99</td>\n",
       "    </tr>\n",
       "    <tr>\n",
       "      <th>3</th>\n",
       "      <td>150505</td>\n",
       "      <td>Lightning Charging Cable</td>\n",
       "      <td>1</td>\n",
       "      <td>14.95</td>\n",
       "      <td>02/02/19 16:47</td>\n",
       "      <td>129 Cherry St, Atlanta, GA 30301</td>\n",
       "      <td>2</td>\n",
       "      <td>14.95</td>\n",
       "    </tr>\n",
       "    <tr>\n",
       "      <th>4</th>\n",
       "      <td>150506</td>\n",
       "      <td>AA Batteries (4-pack)</td>\n",
       "      <td>2</td>\n",
       "      <td>3.84</td>\n",
       "      <td>02/28/19 20:32</td>\n",
       "      <td>548 Lincoln St, Seattle, WA 98101</td>\n",
       "      <td>2</td>\n",
       "      <td>7.68</td>\n",
       "    </tr>\n",
       "  </tbody>\n",
       "</table>\n",
       "</div>"
      ],
      "text/plain": [
       "  Order ID                   Product  Quantity Ordered  Price Each  \\\n",
       "0   150502                    iPhone                 1      700.00   \n",
       "1   150503     AA Batteries (4-pack)                 1        3.84   \n",
       "2   150504    27in 4K Gaming Monitor                 1      389.99   \n",
       "3   150505  Lightning Charging Cable                 1       14.95   \n",
       "4   150506     AA Batteries (4-pack)                 2        3.84   \n",
       "\n",
       "       Order Date                     Purchase Address  Month   Sales  \n",
       "0  02/18/19 01:35    866 Spruce St, Portland, ME 04101      2  700.00  \n",
       "1  02/13/19 07:24  18 13th St, San Francisco, CA 94016      2    3.84  \n",
       "2  02/18/19 09:46   52 6th St, New York City, NY 10001      2  389.99  \n",
       "3  02/02/19 16:47     129 Cherry St, Atlanta, GA 30301      2   14.95  \n",
       "4  02/28/19 20:32    548 Lincoln St, Seattle, WA 98101      2    7.68  "
      ]
     },
     "execution_count": 9,
     "metadata": {},
     "output_type": "execute_result"
    }
   ],
   "source": [
    "all_data['Sales'] = all_data['Quantity Ordered']*all_data['Price Each']\n",
    "all_data.head()"
   ]
  },
  {
   "cell_type": "markdown",
   "id": "e89be670-0de6-418a-9da4-578b0e4def60",
   "metadata": {},
   "source": [
    "#### Task 3: Add a city column"
   ]
  },
  {
   "cell_type": "code",
   "execution_count": 10,
   "id": "ce96259b-74e7-4192-b247-e40826901b89",
   "metadata": {},
   "outputs": [
    {
     "data": {
      "text/html": [
       "<div>\n",
       "<style scoped>\n",
       "    .dataframe tbody tr th:only-of-type {\n",
       "        vertical-align: middle;\n",
       "    }\n",
       "\n",
       "    .dataframe tbody tr th {\n",
       "        vertical-align: top;\n",
       "    }\n",
       "\n",
       "    .dataframe thead th {\n",
       "        text-align: right;\n",
       "    }\n",
       "</style>\n",
       "<table border=\"1\" class=\"dataframe\">\n",
       "  <thead>\n",
       "    <tr style=\"text-align: right;\">\n",
       "      <th></th>\n",
       "      <th>Order ID</th>\n",
       "      <th>Product</th>\n",
       "      <th>Quantity Ordered</th>\n",
       "      <th>Price Each</th>\n",
       "      <th>Order Date</th>\n",
       "      <th>Purchase Address</th>\n",
       "      <th>Month</th>\n",
       "      <th>Sales</th>\n",
       "      <th>City</th>\n",
       "    </tr>\n",
       "  </thead>\n",
       "  <tbody>\n",
       "    <tr>\n",
       "      <th>0</th>\n",
       "      <td>150502</td>\n",
       "      <td>iPhone</td>\n",
       "      <td>1</td>\n",
       "      <td>700.00</td>\n",
       "      <td>02/18/19 01:35</td>\n",
       "      <td>866 Spruce St, Portland, ME 04101</td>\n",
       "      <td>2</td>\n",
       "      <td>700.00</td>\n",
       "      <td>Portland (ME)</td>\n",
       "    </tr>\n",
       "    <tr>\n",
       "      <th>1</th>\n",
       "      <td>150503</td>\n",
       "      <td>AA Batteries (4-pack)</td>\n",
       "      <td>1</td>\n",
       "      <td>3.84</td>\n",
       "      <td>02/13/19 07:24</td>\n",
       "      <td>18 13th St, San Francisco, CA 94016</td>\n",
       "      <td>2</td>\n",
       "      <td>3.84</td>\n",
       "      <td>San Francisco (CA)</td>\n",
       "    </tr>\n",
       "    <tr>\n",
       "      <th>2</th>\n",
       "      <td>150504</td>\n",
       "      <td>27in 4K Gaming Monitor</td>\n",
       "      <td>1</td>\n",
       "      <td>389.99</td>\n",
       "      <td>02/18/19 09:46</td>\n",
       "      <td>52 6th St, New York City, NY 10001</td>\n",
       "      <td>2</td>\n",
       "      <td>389.99</td>\n",
       "      <td>New York City (NY)</td>\n",
       "    </tr>\n",
       "    <tr>\n",
       "      <th>3</th>\n",
       "      <td>150505</td>\n",
       "      <td>Lightning Charging Cable</td>\n",
       "      <td>1</td>\n",
       "      <td>14.95</td>\n",
       "      <td>02/02/19 16:47</td>\n",
       "      <td>129 Cherry St, Atlanta, GA 30301</td>\n",
       "      <td>2</td>\n",
       "      <td>14.95</td>\n",
       "      <td>Atlanta (GA)</td>\n",
       "    </tr>\n",
       "    <tr>\n",
       "      <th>4</th>\n",
       "      <td>150506</td>\n",
       "      <td>AA Batteries (4-pack)</td>\n",
       "      <td>2</td>\n",
       "      <td>3.84</td>\n",
       "      <td>02/28/19 20:32</td>\n",
       "      <td>548 Lincoln St, Seattle, WA 98101</td>\n",
       "      <td>2</td>\n",
       "      <td>7.68</td>\n",
       "      <td>Seattle (WA)</td>\n",
       "    </tr>\n",
       "  </tbody>\n",
       "</table>\n",
       "</div>"
      ],
      "text/plain": [
       "  Order ID                   Product  Quantity Ordered  Price Each  \\\n",
       "0   150502                    iPhone                 1      700.00   \n",
       "1   150503     AA Batteries (4-pack)                 1        3.84   \n",
       "2   150504    27in 4K Gaming Monitor                 1      389.99   \n",
       "3   150505  Lightning Charging Cable                 1       14.95   \n",
       "4   150506     AA Batteries (4-pack)                 2        3.84   \n",
       "\n",
       "       Order Date                     Purchase Address  Month   Sales  \\\n",
       "0  02/18/19 01:35    866 Spruce St, Portland, ME 04101      2  700.00   \n",
       "1  02/13/19 07:24  18 13th St, San Francisco, CA 94016      2    3.84   \n",
       "2  02/18/19 09:46   52 6th St, New York City, NY 10001      2  389.99   \n",
       "3  02/02/19 16:47     129 Cherry St, Atlanta, GA 30301      2   14.95   \n",
       "4  02/28/19 20:32    548 Lincoln St, Seattle, WA 98101      2    7.68   \n",
       "\n",
       "                  City  \n",
       "0        Portland (ME)  \n",
       "1   San Francisco (CA)  \n",
       "2   New York City (NY)  \n",
       "3         Atlanta (GA)  \n",
       "4         Seattle (WA)  "
      ]
     },
     "execution_count": 10,
     "metadata": {},
     "output_type": "execute_result"
    }
   ],
   "source": [
    "#Let's use the .apply() \n",
    "def get_city(address):\n",
    "    return address.split(',')[1]\n",
    "def get_state(address):\n",
    "    return address.split(',')[2].split(\" \")[1]\n",
    "\n",
    "all_data['City'] =all_data['Purchase Address'].apply(lambda x: f\"{get_city(x)} ({get_state(x)})\")\n",
    "all_data.head()"
   ]
  },
  {
   "cell_type": "markdown",
   "id": "67feb038-26e2-4a95-a442-6f8bde7ff04e",
   "metadata": {
    "tags": []
   },
   "source": [
    "#### Question 1: What was the best month for sales? How much was earned that month?"
   ]
  },
  {
   "cell_type": "code",
   "execution_count": 11,
   "id": "055ff850-8876-4226-ad0a-32b31799de5f",
   "metadata": {},
   "outputs": [],
   "source": [
    "results= all_data.groupby('Month').sum()"
   ]
  },
  {
   "cell_type": "code",
   "execution_count": 12,
   "id": "f1102476-1396-4049-8881-2465d641ed06",
   "metadata": {},
   "outputs": [
    {
     "data": {
      "image/png": "[encoded data removed]",
      "text/plain": [
       "<Figure size 432x288 with 1 Axes>"
      ]
     },
     "metadata": {
      "needs_background": "light"
     },
     "output_type": "display_data"
    },
    {
     "ename": "FileNotFoundError",
     "evalue": "[Errno 2] No such file or directory: './Images/q_1.png'",
     "output_type": "error",
     "traceback": [
      "\u001b[0;31m---------------------------------------------------------------------------\u001b[0m",
      "\u001b[0;31mFileNotFoundError\u001b[0m                         Traceback (most recent call last)",
      "\u001b[0;32m<ipython-input-12-07618dc100cf>\u001b[0m in \u001b[0;36m<module>\u001b[0;34m\u001b[0m\n\u001b[1;32m      7\u001b[0m \u001b[0mplt\u001b[0m\u001b[0;34m.\u001b[0m\u001b[0mxlabel\u001b[0m\u001b[0;34m(\u001b[0m\u001b[0;34m\"Month number\"\u001b[0m\u001b[0;34m)\u001b[0m\u001b[0;34m\u001b[0m\u001b[0;34m\u001b[0m\u001b[0m\n\u001b[1;32m      8\u001b[0m \u001b[0mplt\u001b[0m\u001b[0;34m.\u001b[0m\u001b[0mshow\u001b[0m\u001b[0;34m(\u001b[0m\u001b[0;34m)\u001b[0m\u001b[0;34m\u001b[0m\u001b[0;34m\u001b[0m\u001b[0m\n\u001b[0;32m----> 9\u001b[0;31m \u001b[0mplt\u001b[0m\u001b[0;34m.\u001b[0m\u001b[0msavefig\u001b[0m\u001b[0;34m(\u001b[0m\u001b[0;34m'./Images/q_1.png'\u001b[0m\u001b[0;34m)\u001b[0m\u001b[0;34m\u001b[0m\u001b[0;34m\u001b[0m\u001b[0m\n\u001b[0m",
      "\u001b[0;32m~/anaconda3/envs/ML_env_python_3_7/lib/python3.7/site-packages/matplotlib/pyplot.py\u001b[0m in \u001b[0;36msavefig\u001b[0;34m(*args, **kwargs)\u001b[0m\n\u001b[1;32m    857\u001b[0m \u001b[0;32mdef\u001b[0m \u001b[0msavefig\u001b[0m\u001b[0;34m(\u001b[0m\u001b[0;34m*\u001b[0m\u001b[0margs\u001b[0m\u001b[0;34m,\u001b[0m \u001b[0;34m**\u001b[0m\u001b[0mkwargs\u001b[0m\u001b[0;34m)\u001b[0m\u001b[0;34m:\u001b[0m\u001b[0;34m\u001b[0m\u001b[0;34m\u001b[0m\u001b[0m\n\u001b[1;32m    858\u001b[0m     \u001b[0mfig\u001b[0m \u001b[0;34m=\u001b[0m \u001b[0mgcf\u001b[0m\u001b[0;34m(\u001b[0m\u001b[0;34m)\u001b[0m\u001b[0;34m\u001b[0m\u001b[0;34m\u001b[0m\u001b[0m\n\u001b[0;32m--> 859\u001b[0;31m     \u001b[0mres\u001b[0m \u001b[0;34m=\u001b[0m \u001b[0mfig\u001b[0m\u001b[0;34m.\u001b[0m\u001b[0msavefig\u001b[0m\u001b[0;34m(\u001b[0m\u001b[0;34m*\u001b[0m\u001b[0margs\u001b[0m\u001b[0;34m,\u001b[0m \u001b[0;34m**\u001b[0m\u001b[0mkwargs\u001b[0m\u001b[0;34m)\u001b[0m\u001b[0;34m\u001b[0m\u001b[0;34m\u001b[0m\u001b[0m\n\u001b[0m\u001b[1;32m    860\u001b[0m     \u001b[0mfig\u001b[0m\u001b[0;34m.\u001b[0m\u001b[0mcanvas\u001b[0m\u001b[0;34m.\u001b[0m\u001b[0mdraw_idle\u001b[0m\u001b[0;34m(\u001b[0m\u001b[0;34m)\u001b[0m   \u001b[0;31m# need this if 'transparent=True' to reset colors\u001b[0m\u001b[0;34m\u001b[0m\u001b[0;34m\u001b[0m\u001b[0m\n\u001b[1;32m    861\u001b[0m     \u001b[0;32mreturn\u001b[0m \u001b[0mres\u001b[0m\u001b[0;34m\u001b[0m\u001b[0;34m\u001b[0m\u001b[0m\n",
      "\u001b[0;32m~/anaconda3/envs/ML_env_python_3_7/lib/python3.7/site-packages/matplotlib/figure.py\u001b[0m in \u001b[0;36msavefig\u001b[0;34m(self, fname, transparent, **kwargs)\u001b[0m\n\u001b[1;32m   2309\u001b[0m                 \u001b[0mpatch\u001b[0m\u001b[0;34m.\u001b[0m\u001b[0mset_edgecolor\u001b[0m\u001b[0;34m(\u001b[0m\u001b[0;34m'none'\u001b[0m\u001b[0;34m)\u001b[0m\u001b[0;34m\u001b[0m\u001b[0;34m\u001b[0m\u001b[0m\n\u001b[1;32m   2310\u001b[0m \u001b[0;34m\u001b[0m\u001b[0m\n\u001b[0;32m-> 2311\u001b[0;31m         \u001b[0mself\u001b[0m\u001b[0;34m.\u001b[0m\u001b[0mcanvas\u001b[0m\u001b[0;34m.\u001b[0m\u001b[0mprint_figure\u001b[0m\u001b[0;34m(\u001b[0m\u001b[0mfname\u001b[0m\u001b[0;34m,\u001b[0m \u001b[0;34m**\u001b[0m\u001b[0mkwargs\u001b[0m\u001b[0;34m)\u001b[0m\u001b[0;34m\u001b[0m\u001b[0;34m\u001b[0m\u001b[0m\n\u001b[0m\u001b[1;32m   2312\u001b[0m \u001b[0;34m\u001b[0m\u001b[0m\n\u001b[1;32m   2313\u001b[0m         \u001b[0;32mif\u001b[0m \u001b[0mtransparent\u001b[0m\u001b[0;34m:\u001b[0m\u001b[0;34m\u001b[0m\u001b[0;34m\u001b[0m\u001b[0m\n",
      "\u001b[0;32m~/anaconda3/envs/ML_env_python_3_7/lib/python3.7/site-packages/matplotlib/backend_bases.py\u001b[0m in \u001b[0;36mprint_figure\u001b[0;34m(self, filename, dpi, facecolor, edgecolor, orientation, format, bbox_inches, pad_inches, bbox_extra_artists, backend, **kwargs)\u001b[0m\n\u001b[1;32m   2215\u001b[0m                     \u001b[0morientation\u001b[0m\u001b[0;34m=\u001b[0m\u001b[0morientation\u001b[0m\u001b[0;34m,\u001b[0m\u001b[0;34m\u001b[0m\u001b[0;34m\u001b[0m\u001b[0m\n\u001b[1;32m   2216\u001b[0m                     \u001b[0mbbox_inches_restore\u001b[0m\u001b[0;34m=\u001b[0m\u001b[0m_bbox_inches_restore\u001b[0m\u001b[0;34m,\u001b[0m\u001b[0;34m\u001b[0m\u001b[0;34m\u001b[0m\u001b[0m\n\u001b[0;32m-> 2217\u001b[0;31m                     **kwargs)\n\u001b[0m\u001b[1;32m   2218\u001b[0m             \u001b[0;32mfinally\u001b[0m\u001b[0;34m:\u001b[0m\u001b[0;34m\u001b[0m\u001b[0;34m\u001b[0m\u001b[0m\n\u001b[1;32m   2219\u001b[0m                 \u001b[0;32mif\u001b[0m \u001b[0mbbox_inches\u001b[0m \u001b[0;32mand\u001b[0m \u001b[0mrestore_bbox\u001b[0m\u001b[0;34m:\u001b[0m\u001b[0;34m\u001b[0m\u001b[0;34m\u001b[0m\u001b[0m\n",
      "\u001b[0;32m~/anaconda3/envs/ML_env_python_3_7/lib/python3.7/site-packages/matplotlib/backend_bases.py\u001b[0m in \u001b[0;36mwrapper\u001b[0;34m(*args, **kwargs)\u001b[0m\n\u001b[1;32m   1637\u001b[0m             \u001b[0mkwargs\u001b[0m\u001b[0;34m.\u001b[0m\u001b[0mpop\u001b[0m\u001b[0;34m(\u001b[0m\u001b[0marg\u001b[0m\u001b[0;34m)\u001b[0m\u001b[0;34m\u001b[0m\u001b[0;34m\u001b[0m\u001b[0m\n\u001b[1;32m   1638\u001b[0m \u001b[0;34m\u001b[0m\u001b[0m\n\u001b[0;32m-> 1639\u001b[0;31m         \u001b[0;32mreturn\u001b[0m \u001b[0mfunc\u001b[0m\u001b[0;34m(\u001b[0m\u001b[0;34m*\u001b[0m\u001b[0margs\u001b[0m\u001b[0;34m,\u001b[0m \u001b[0;34m**\u001b[0m\u001b[0mkwargs\u001b[0m\u001b[0;34m)\u001b[0m\u001b[0;34m\u001b[0m\u001b[0;34m\u001b[0m\u001b[0m\n\u001b[0m\u001b[1;32m   1640\u001b[0m \u001b[0;34m\u001b[0m\u001b[0m\n\u001b[1;32m   1641\u001b[0m     \u001b[0;32mreturn\u001b[0m \u001b[0mwrapper\u001b[0m\u001b[0;34m\u001b[0m\u001b[0;34m\u001b[0m\u001b[0m\n",
      "\u001b[0;32m~/anaconda3/envs/ML_env_python_3_7/lib/python3.7/site-packages/matplotlib/backends/backend_agg.py\u001b[0m in \u001b[0;36mprint_png\u001b[0;34m(self, filename_or_obj, metadata, pil_kwargs, *args)\u001b[0m\n\u001b[1;32m    510\u001b[0m         mpl.image.imsave(\n\u001b[1;32m    511\u001b[0m             \u001b[0mfilename_or_obj\u001b[0m\u001b[0;34m,\u001b[0m \u001b[0mself\u001b[0m\u001b[0;34m.\u001b[0m\u001b[0mbuffer_rgba\u001b[0m\u001b[0;34m(\u001b[0m\u001b[0;34m)\u001b[0m\u001b[0;34m,\u001b[0m \u001b[0mformat\u001b[0m\u001b[0;34m=\u001b[0m\u001b[0;34m\"png\"\u001b[0m\u001b[0;34m,\u001b[0m \u001b[0morigin\u001b[0m\u001b[0;34m=\u001b[0m\u001b[0;34m\"upper\"\u001b[0m\u001b[0;34m,\u001b[0m\u001b[0;34m\u001b[0m\u001b[0;34m\u001b[0m\u001b[0m\n\u001b[0;32m--> 512\u001b[0;31m             dpi=self.figure.dpi, metadata=metadata, pil_kwargs=pil_kwargs)\n\u001b[0m\u001b[1;32m    513\u001b[0m \u001b[0;34m\u001b[0m\u001b[0m\n\u001b[1;32m    514\u001b[0m     \u001b[0;32mdef\u001b[0m \u001b[0mprint_to_buffer\u001b[0m\u001b[0;34m(\u001b[0m\u001b[0mself\u001b[0m\u001b[0;34m)\u001b[0m\u001b[0;34m:\u001b[0m\u001b[0;34m\u001b[0m\u001b[0;34m\u001b[0m\u001b[0m\n",
      "\u001b[0;32m~/anaconda3/envs/ML_env_python_3_7/lib/python3.7/site-packages/matplotlib/image.py\u001b[0m in \u001b[0;36mimsave\u001b[0;34m(fname, arr, vmin, vmax, cmap, format, origin, dpi, metadata, pil_kwargs)\u001b[0m\n\u001b[1;32m   1609\u001b[0m         \u001b[0mpil_kwargs\u001b[0m\u001b[0;34m.\u001b[0m\u001b[0msetdefault\u001b[0m\u001b[0;34m(\u001b[0m\u001b[0;34m\"format\"\u001b[0m\u001b[0;34m,\u001b[0m \u001b[0mformat\u001b[0m\u001b[0;34m)\u001b[0m\u001b[0;34m\u001b[0m\u001b[0;34m\u001b[0m\u001b[0m\n\u001b[1;32m   1610\u001b[0m         \u001b[0mpil_kwargs\u001b[0m\u001b[0;34m.\u001b[0m\u001b[0msetdefault\u001b[0m\u001b[0;34m(\u001b[0m\u001b[0;34m\"dpi\"\u001b[0m\u001b[0;34m,\u001b[0m \u001b[0;34m(\u001b[0m\u001b[0mdpi\u001b[0m\u001b[0;34m,\u001b[0m \u001b[0mdpi\u001b[0m\u001b[0;34m)\u001b[0m\u001b[0;34m)\u001b[0m\u001b[0;34m\u001b[0m\u001b[0;34m\u001b[0m\u001b[0m\n\u001b[0;32m-> 1611\u001b[0;31m         \u001b[0mimage\u001b[0m\u001b[0;34m.\u001b[0m\u001b[0msave\u001b[0m\u001b[0;34m(\u001b[0m\u001b[0mfname\u001b[0m\u001b[0;34m,\u001b[0m \u001b[0;34m**\u001b[0m\u001b[0mpil_kwargs\u001b[0m\u001b[0;34m)\u001b[0m\u001b[0;34m\u001b[0m\u001b[0;34m\u001b[0m\u001b[0m\n\u001b[0m\u001b[1;32m   1612\u001b[0m \u001b[0;34m\u001b[0m\u001b[0m\n\u001b[1;32m   1613\u001b[0m \u001b[0;34m\u001b[0m\u001b[0m\n",
      "\u001b[0;32m~/anaconda3/envs/ML_env_python_3_7/lib/python3.7/site-packages/PIL/Image.py\u001b[0m in \u001b[0;36msave\u001b[0;34m(self, fp, format, **params)\u001b[0m\n\u001b[1;32m   2167\u001b[0m                 \u001b[0mfp\u001b[0m \u001b[0;34m=\u001b[0m \u001b[0mbuiltins\u001b[0m\u001b[0;34m.\u001b[0m\u001b[0mopen\u001b[0m\u001b[0;34m(\u001b[0m\u001b[0mfilename\u001b[0m\u001b[0;34m,\u001b[0m \u001b[0;34m\"r+b\"\u001b[0m\u001b[0;34m)\u001b[0m\u001b[0;34m\u001b[0m\u001b[0;34m\u001b[0m\u001b[0m\n\u001b[1;32m   2168\u001b[0m             \u001b[0;32melse\u001b[0m\u001b[0;34m:\u001b[0m\u001b[0;34m\u001b[0m\u001b[0;34m\u001b[0m\u001b[0m\n\u001b[0;32m-> 2169\u001b[0;31m                 \u001b[0mfp\u001b[0m \u001b[0;34m=\u001b[0m \u001b[0mbuiltins\u001b[0m\u001b[0;34m.\u001b[0m\u001b[0mopen\u001b[0m\u001b[0;34m(\u001b[0m\u001b[0mfilename\u001b[0m\u001b[0;34m,\u001b[0m \u001b[0;34m\"w+b\"\u001b[0m\u001b[0;34m)\u001b[0m\u001b[0;34m\u001b[0m\u001b[0;34m\u001b[0m\u001b[0m\n\u001b[0m\u001b[1;32m   2170\u001b[0m \u001b[0;34m\u001b[0m\u001b[0m\n\u001b[1;32m   2171\u001b[0m         \u001b[0;32mtry\u001b[0m\u001b[0;34m:\u001b[0m\u001b[0;34m\u001b[0m\u001b[0;34m\u001b[0m\u001b[0m\n",
      "\u001b[0;31mFileNotFoundError\u001b[0m: [Errno 2] No such file or directory: './Images/q_1.png'"
     ]
    },
    {
     "data": {
      "text/plain": [
       "<Figure size 432x288 with 0 Axes>"
      ]
     },
     "metadata": {},
     "output_type": "display_data"
    }
   ],
   "source": [
    "import matplotlib.pyplot as plt\n",
    "\n",
    "months = range(1,13)\n",
    "plt.bar(months,results['Sales'])\n",
    "plt.xticks(months)\n",
    "plt.ylabel('Sales in USD ($)')\n",
    "plt.xlabel(\"Month number\")\n",
    "plt.show()\n",
    "plt.savefig('./Images/q_1.png')"
   ]
  },
  {
   "cell_type": "markdown",
   "id": "fc410cff-cc75-4fe3-a185-38da90d7ffed",
   "metadata": {},
   "source": [
    "#### Question 2:What city had the highest number of sales"
   ]
  },
  {
   "cell_type": "code",
   "execution_count": null,
   "id": "2500d654-7f02-4d6d-a786-8a52765e213f",
   "metadata": {},
   "outputs": [],
   "source": [
    "results= all_data.groupby('City').sum()\n",
    "results"
   ]
  },
  {
   "cell_type": "code",
   "execution_count": null,
   "id": "8c8f6c4b-7154-44fc-8edc-05360a2a8217",
   "metadata": {},
   "outputs": [],
   "source": [
    "import matplotlib.pyplot as plt\n",
    "\n",
    "cities = [city for city,df in all_data.groupby('City')]\n",
    "plt.bar(cities,results['Sales'])\n",
    "plt.xticks(cities, rotation='vertical', size = 8)\n",
    "plt.ylabel('Sales in USD ($)')\n",
    "plt.xlabel(\"City name\")\n",
    "plt.show()"
   ]
  },
  {
   "cell_type": "markdown",
   "id": "eec0ac54-57e2-4206-bdb0-a655d3c17fe9",
   "metadata": {},
   "source": [
    "#### Question 3: What time should we display advertisements to maximize likelihood of customer's buying product?"
   ]
  },
  {
   "cell_type": "code",
   "execution_count": null,
   "id": "402a5146-dada-4032-a5d8-0fc5ec252f93",
   "metadata": {},
   "outputs": [],
   "source": [
    "all_data.head()"
   ]
  },
  {
   "cell_type": "code",
   "execution_count": null,
   "id": "ebb1a626-dc4f-40ea-a171-40d40eb2f41e",
   "metadata": {},
   "outputs": [],
   "source": [
    "all_data['Order Date']= pd.to_datetime(all_data['Order Date'])"
   ]
  },
  {
   "cell_type": "code",
   "execution_count": null,
   "id": "0aa7c8c0-63ec-4445-9458-101647e67f9f",
   "metadata": {},
   "outputs": [],
   "source": [
    "all_data.head()"
   ]
  },
  {
   "cell_type": "code",
   "execution_count": null,
   "id": "8e46535b-1476-4dc2-a45e-e874eda27242",
   "metadata": {},
   "outputs": [],
   "source": [
    "all_data['Hour']=all_data['Order Date'].dt.hour\n",
    "all_data['Minute']=all_data['Order Date'].dt.minute\n",
    "all_data.head()"
   ]
  },
  {
   "cell_type": "code",
   "execution_count": null,
   "id": "347f08aa-b2c4-4eb2-8b33-ff7955436383",
   "metadata": {},
   "outputs": [],
   "source": [
    "hours = [hour for hour,df in all_data.groupby('Hour')]\n",
    "\n",
    "plt.plot(hours,all_data.groupby(['Hour']).count())\n",
    "plt.xticks(hours)\n",
    "plt.grid()\n",
    "plt.xlabel('Hour')\n",
    "plt.ylabel('Number of Orders')\n",
    "plt.show()\n",
    "\n",
    "# 11 am (11) or 7pm (19) is the recommended time for advertisement\n"
   ]
  },
  {
   "cell_type": "markdown",
   "id": "e3e33441-7f3f-4e8b-b7fd-04adbdf4f34c",
   "metadata": {},
   "source": [
    "#### Question 4: What products are most often sold together"
   ]
  },
  {
   "cell_type": "code",
   "execution_count": null,
   "id": "80fe3306-e186-471c-8259-bcad458dd8e6",
   "metadata": {},
   "outputs": [],
   "source": [
    "all_data.head()"
   ]
  },
  {
   "cell_type": "code",
   "execution_count": null,
   "id": "59435687-06b2-4441-8d8a-b85989d78ba0",
   "metadata": {},
   "outputs": [],
   "source": [
    "df = all_data[all_data['Order ID'].duplicated(keep=False)]\n",
    "df['Grouped']=df.groupby('Order ID')['Product'].transform(lambda x: ','.join(x))\n",
    "df = df[['Order ID', 'Grouped']].drop_duplicates()\n",
    "\n",
    "df.head()"
   ]
  },
  {
   "cell_type": "code",
   "execution_count": null,
   "id": "b69bd561-7720-47b4-87e3-fccfed665e0f",
   "metadata": {},
   "outputs": [],
   "source": [
    "\n",
    "from itertools import  combinations\n",
    "from collections import Counter\n",
    "\n",
    "count = Counter()\n",
    "\n",
    "for row in df['Grouped']:\n",
    "    row_list=row.split(',')\n",
    "    count.update(Counter(combinations(row_list,2)))\n",
    "    \n",
    "for key,value in count.most_common(10):\n",
    "    print(key,value)\n",
    "\n",
    "\n",
    "\n",
    "\n",
    "\n",
    "# Combination of these items can be offered as discounts to the customers\n",
    "\n",
    "\n"
   ]
  },
  {
   "cell_type": "markdown",
   "id": "1bdd3956-661e-40d4-9607-d612c5e01134",
   "metadata": {},
   "source": [
    "#### Question 5: What product sold the most? Why do you think it sold the most?"
   ]
  },
  {
   "cell_type": "code",
   "execution_count": null,
   "id": "9ecedea5-caf0-443f-8c11-bdc2c297e58e",
   "metadata": {},
   "outputs": [],
   "source": [
    "all_data.head()"
   ]
  },
  {
   "cell_type": "code",
   "execution_count": null,
   "id": "c28b8acc-06b7-4b05-aa6c-463519af3c1c",
   "metadata": {},
   "outputs": [],
   "source": [
    "product_group= all_data.groupby('Product')\n",
    "\n",
    "quantity_ordered= product_group.sum()['Quantity Ordered']\n",
    "\n",
    "products = [product for product,df in product_group]\n",
    "\n",
    "plt. bar(products,quantity_ordered)\n",
    "plt.ylabel('Quantity Ordered')\n",
    "plt.xlabel('Product')\n",
    "plt. xticks(products, rotation = 'vertical',size =8)\n",
    "plt.show()"
   ]
  },
  {
   "cell_type": "code",
   "execution_count": null,
   "id": "de5e0c78-00e5-4a2b-80f5-1c2ab1302ef5",
   "metadata": {},
   "outputs": [],
   "source": [
    "prices = all_data.groupby(['Product']).mean()['Price Each']\n",
    "print(prices)"
   ]
  },
  {
   "cell_type": "code",
   "execution_count": null,
   "id": "b845e209-e35d-49e0-bca2-1b79db84b65b",
   "metadata": {},
   "outputs": [],
   "source": [
    "fig, ax1 = plt.subplots()\n",
    "ax2=ax1.twinx()\n",
    "ax1.bar(products,quantity_ordered,color='g')\n",
    "ax2.plot(products,prices,color='b')\n",
    "\n",
    "ax1.set_xlabel('Products Name')\n",
    "ax1.set_ylabel('Quantity Ordered',color='g')\n",
    "ax2.set_ylabel('Price ($)',color='b')\n",
    "\n",
    "ax1.set_xticklabels(products,rotation='vertical',size=8)\n",
    "plt.show()\n"
   ]
  },
  {
   "cell_type": "code",
   "execution_count": null,
   "id": "20320558-94a7-4983-897f-f91177f8aa06",
   "metadata": {},
   "outputs": [],
   "source": []
  }
 ],
 "metadata": {
  "kernelspec": {
   "display_name": "Python 3",
   "language": "python",
   "name": "python3"
  },
  "language_info": {
   "codemirror_mode": {
    "name": "ipython",
    "version": 3
   },
   "file_extension": ".py",
   "mimetype": "text/x-python",
   "name": "python",
   "nbconvert_exporter": "python",
   "pygments_lexer": "ipython3",
   "version": "3.7.10"
  }
 },
 "nbformat": 4,
 "nbformat_minor": 5
}
